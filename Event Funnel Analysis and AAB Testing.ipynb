{
 "cells": [
  {
   "cell_type": "markdown",
   "metadata": {},
   "source": [
    "## **Análise de Funil de Eventos e Teste A/A/B**  \n",
    "### **Event Funnel Analysis and A/A/B Testing**"
   ]
  },
  {
   "cell_type": "markdown",
   "metadata": {},
   "source": [
    "**Clara Álvares Camargo**  \n",
    "Setembro/2024"
   ]
  },
  {
   "cell_type": "markdown",
   "metadata": {},
   "source": [
    "## 0.Bibliotecas"
   ]
  },
  {
   "cell_type": "code",
   "execution_count": 640,
   "metadata": {},
   "outputs": [],
   "source": [
    "# importando bibliotecas\n",
    "\n",
    "import pandas as pd\n",
    "import plotly.express as px\n",
    "from matplotlib import pyplot as plt\n",
    "import seaborn as sns\n",
    "from scipy import stats\n",
    "from scipy.stats import ttest_ind\n",
    "from statsmodels.stats.proportion import proportions_ztest\n",
    "import seaborn as sns\n",
    "import numpy as np"
   ]
  },
  {
   "cell_type": "markdown",
   "metadata": {},
   "source": [
    "## 1.Leitura dos dados"
   ]
  },
  {
   "cell_type": "markdown",
   "metadata": {},
   "source": [
    "### 1.0.Carregamento os dados"
   ]
  },
  {
   "cell_type": "code",
   "execution_count": 641,
   "metadata": {},
   "outputs": [],
   "source": [
    "# carregando os dados\n",
    "\n",
    "logs_br = pd.read_csv('./logs_exp_us.csv',sep='\\t')"
   ]
  },
  {
   "cell_type": "markdown",
   "metadata": {},
   "source": [
    "### 1.1.Visualização os dados"
   ]
  },
  {
   "cell_type": "code",
   "execution_count": 642,
   "metadata": {},
   "outputs": [
    {
     "name": "stdout",
     "output_type": "stream",
     "text": [
      "<class 'pandas.core.frame.DataFrame'>\n",
      "RangeIndex: 244126 entries, 0 to 244125\n",
      "Data columns (total 4 columns):\n",
      " #   Column          Non-Null Count   Dtype \n",
      "---  ------          --------------   ----- \n",
      " 0   EventName       244126 non-null  object\n",
      " 1   DeviceIDHash    244126 non-null  int64 \n",
      " 2   EventTimestamp  244126 non-null  int64 \n",
      " 3   ExpId           244126 non-null  int64 \n",
      "dtypes: int64(3), object(1)\n",
      "memory usage: 7.5+ MB\n"
     ]
    }
   ],
   "source": [
    "# visualizando os dados\n",
    "logs_br.info()"
   ]
  },
  {
   "cell_type": "code",
   "execution_count": 643,
   "metadata": {},
   "outputs": [
    {
     "data": {
      "text/html": [
       "<div>\n",
       "<style scoped>\n",
       "    .dataframe tbody tr th:only-of-type {\n",
       "        vertical-align: middle;\n",
       "    }\n",
       "\n",
       "    .dataframe tbody tr th {\n",
       "        vertical-align: top;\n",
       "    }\n",
       "\n",
       "    .dataframe thead th {\n",
       "        text-align: right;\n",
       "    }\n",
       "</style>\n",
       "<table border=\"1\" class=\"dataframe\">\n",
       "  <thead>\n",
       "    <tr style=\"text-align: right;\">\n",
       "      <th></th>\n",
       "      <th>EventName</th>\n",
       "      <th>DeviceIDHash</th>\n",
       "      <th>EventTimestamp</th>\n",
       "      <th>ExpId</th>\n",
       "    </tr>\n",
       "  </thead>\n",
       "  <tbody>\n",
       "    <tr>\n",
       "      <th>0</th>\n",
       "      <td>MainScreenAppear</td>\n",
       "      <td>4575588528974610257</td>\n",
       "      <td>1564029816</td>\n",
       "      <td>246</td>\n",
       "    </tr>\n",
       "    <tr>\n",
       "      <th>1</th>\n",
       "      <td>MainScreenAppear</td>\n",
       "      <td>7416695313311560658</td>\n",
       "      <td>1564053102</td>\n",
       "      <td>246</td>\n",
       "    </tr>\n",
       "    <tr>\n",
       "      <th>2</th>\n",
       "      <td>PaymentScreenSuccessful</td>\n",
       "      <td>3518123091307005509</td>\n",
       "      <td>1564054127</td>\n",
       "      <td>248</td>\n",
       "    </tr>\n",
       "    <tr>\n",
       "      <th>3</th>\n",
       "      <td>CartScreenAppear</td>\n",
       "      <td>3518123091307005509</td>\n",
       "      <td>1564054127</td>\n",
       "      <td>248</td>\n",
       "    </tr>\n",
       "    <tr>\n",
       "      <th>4</th>\n",
       "      <td>PaymentScreenSuccessful</td>\n",
       "      <td>6217807653094995999</td>\n",
       "      <td>1564055322</td>\n",
       "      <td>248</td>\n",
       "    </tr>\n",
       "  </tbody>\n",
       "</table>\n",
       "</div>"
      ],
      "text/plain": [
       "                 EventName         DeviceIDHash  EventTimestamp  ExpId\n",
       "0         MainScreenAppear  4575588528974610257      1564029816    246\n",
       "1         MainScreenAppear  7416695313311560658      1564053102    246\n",
       "2  PaymentScreenSuccessful  3518123091307005509      1564054127    248\n",
       "3         CartScreenAppear  3518123091307005509      1564054127    248\n",
       "4  PaymentScreenSuccessful  6217807653094995999      1564055322    248"
      ]
     },
     "execution_count": 643,
     "metadata": {},
     "output_type": "execute_result"
    }
   ],
   "source": [
    "# visualizando os dados\n",
    "logs_br.head()"
   ]
  },
  {
   "cell_type": "code",
   "execution_count": 644,
   "metadata": {},
   "outputs": [
    {
     "data": {
      "text/html": [
       "<div>\n",
       "<style scoped>\n",
       "    .dataframe tbody tr th:only-of-type {\n",
       "        vertical-align: middle;\n",
       "    }\n",
       "\n",
       "    .dataframe tbody tr th {\n",
       "        vertical-align: top;\n",
       "    }\n",
       "\n",
       "    .dataframe thead th {\n",
       "        text-align: right;\n",
       "    }\n",
       "</style>\n",
       "<table border=\"1\" class=\"dataframe\">\n",
       "  <thead>\n",
       "    <tr style=\"text-align: right;\">\n",
       "      <th></th>\n",
       "      <th>EventName</th>\n",
       "      <th>DeviceIDHash</th>\n",
       "      <th>EventTimestamp</th>\n",
       "      <th>ExpId</th>\n",
       "    </tr>\n",
       "  </thead>\n",
       "  <tbody>\n",
       "    <tr>\n",
       "      <th>103146</th>\n",
       "      <td>CartScreenAppear</td>\n",
       "      <td>2286563893048866304</td>\n",
       "      <td>1564855116</td>\n",
       "      <td>247</td>\n",
       "    </tr>\n",
       "    <tr>\n",
       "      <th>25852</th>\n",
       "      <td>MainScreenAppear</td>\n",
       "      <td>1144951999511701317</td>\n",
       "      <td>1564672194</td>\n",
       "      <td>247</td>\n",
       "    </tr>\n",
       "    <tr>\n",
       "      <th>48017</th>\n",
       "      <td>MainScreenAppear</td>\n",
       "      <td>143053681101464831</td>\n",
       "      <td>1564734737</td>\n",
       "      <td>248</td>\n",
       "    </tr>\n",
       "    <tr>\n",
       "      <th>8803</th>\n",
       "      <td>MainScreenAppear</td>\n",
       "      <td>1541400765883090864</td>\n",
       "      <td>1564645451</td>\n",
       "      <td>248</td>\n",
       "    </tr>\n",
       "    <tr>\n",
       "      <th>3083</th>\n",
       "      <td>MainScreenAppear</td>\n",
       "      <td>6928114357124159164</td>\n",
       "      <td>1564622312</td>\n",
       "      <td>246</td>\n",
       "    </tr>\n",
       "  </tbody>\n",
       "</table>\n",
       "</div>"
      ],
      "text/plain": [
       "               EventName         DeviceIDHash  EventTimestamp  ExpId\n",
       "103146  CartScreenAppear  2286563893048866304      1564855116    247\n",
       "25852   MainScreenAppear  1144951999511701317      1564672194    247\n",
       "48017   MainScreenAppear   143053681101464831      1564734737    248\n",
       "8803    MainScreenAppear  1541400765883090864      1564645451    248\n",
       "3083    MainScreenAppear  6928114357124159164      1564622312    246"
      ]
     },
     "execution_count": 644,
     "metadata": {},
     "output_type": "execute_result"
    }
   ],
   "source": [
    "# visualizando os dados\n",
    "logs_br.sample(5)"
   ]
  },
  {
   "cell_type": "code",
   "execution_count": 645,
   "metadata": {},
   "outputs": [
    {
     "data": {
      "text/html": [
       "<div>\n",
       "<style scoped>\n",
       "    .dataframe tbody tr th:only-of-type {\n",
       "        vertical-align: middle;\n",
       "    }\n",
       "\n",
       "    .dataframe tbody tr th {\n",
       "        vertical-align: top;\n",
       "    }\n",
       "\n",
       "    .dataframe thead th {\n",
       "        text-align: right;\n",
       "    }\n",
       "</style>\n",
       "<table border=\"1\" class=\"dataframe\">\n",
       "  <thead>\n",
       "    <tr style=\"text-align: right;\">\n",
       "      <th></th>\n",
       "      <th>EventName</th>\n",
       "      <th>DeviceIDHash</th>\n",
       "      <th>EventTimestamp</th>\n",
       "      <th>ExpId</th>\n",
       "    </tr>\n",
       "  </thead>\n",
       "  <tbody>\n",
       "    <tr>\n",
       "      <th>244121</th>\n",
       "      <td>MainScreenAppear</td>\n",
       "      <td>4599628364049201812</td>\n",
       "      <td>1565212345</td>\n",
       "      <td>247</td>\n",
       "    </tr>\n",
       "    <tr>\n",
       "      <th>244122</th>\n",
       "      <td>MainScreenAppear</td>\n",
       "      <td>5849806612437486590</td>\n",
       "      <td>1565212439</td>\n",
       "      <td>246</td>\n",
       "    </tr>\n",
       "    <tr>\n",
       "      <th>244123</th>\n",
       "      <td>MainScreenAppear</td>\n",
       "      <td>5746969938801999050</td>\n",
       "      <td>1565212483</td>\n",
       "      <td>246</td>\n",
       "    </tr>\n",
       "    <tr>\n",
       "      <th>244124</th>\n",
       "      <td>MainScreenAppear</td>\n",
       "      <td>5746969938801999050</td>\n",
       "      <td>1565212498</td>\n",
       "      <td>246</td>\n",
       "    </tr>\n",
       "    <tr>\n",
       "      <th>244125</th>\n",
       "      <td>OffersScreenAppear</td>\n",
       "      <td>5746969938801999050</td>\n",
       "      <td>1565212517</td>\n",
       "      <td>246</td>\n",
       "    </tr>\n",
       "  </tbody>\n",
       "</table>\n",
       "</div>"
      ],
      "text/plain": [
       "                 EventName         DeviceIDHash  EventTimestamp  ExpId\n",
       "244121    MainScreenAppear  4599628364049201812      1565212345    247\n",
       "244122    MainScreenAppear  5849806612437486590      1565212439    246\n",
       "244123    MainScreenAppear  5746969938801999050      1565212483    246\n",
       "244124    MainScreenAppear  5746969938801999050      1565212498    246\n",
       "244125  OffersScreenAppear  5746969938801999050      1565212517    246"
      ]
     },
     "execution_count": 645,
     "metadata": {},
     "output_type": "execute_result"
    }
   ],
   "source": [
    "# visualizando os dados\n",
    "logs_br.tail()"
   ]
  },
  {
   "cell_type": "markdown",
   "metadata": {},
   "source": [
    "### 1.2.Tratamento dos dados"
   ]
  },
  {
   "cell_type": "code",
   "execution_count": 646,
   "metadata": {},
   "outputs": [],
   "source": [
    "# renomeando colunas\n",
    "logs_br = logs_br.rename(columns={'EventName': 'event', 'DeviceIDHash': 'user_id', 'EventTimestamp':'datetime', 'ExpId':'group'})"
   ]
  },
  {
   "cell_type": "code",
   "execution_count": 647,
   "metadata": {},
   "outputs": [
    {
     "name": "stdout",
     "output_type": "stream",
     "text": [
      "<class 'pandas.core.frame.DataFrame'>\n",
      "RangeIndex: 244126 entries, 0 to 244125\n",
      "Data columns (total 4 columns):\n",
      " #   Column    Non-Null Count   Dtype \n",
      "---  ------    --------------   ----- \n",
      " 0   event     244126 non-null  object\n",
      " 1   user_id   244126 non-null  int64 \n",
      " 2   datetime  244126 non-null  int64 \n",
      " 3   group     244126 non-null  int64 \n",
      "dtypes: int64(3), object(1)\n",
      "memory usage: 7.5+ MB\n"
     ]
    }
   ],
   "source": [
    "#conferindo DataFrame\n",
    "logs_br.info()"
   ]
  },
  {
   "cell_type": "code",
   "execution_count": 648,
   "metadata": {},
   "outputs": [
    {
     "data": {
      "text/plain": [
       "event       0\n",
       "user_id     0\n",
       "datetime    0\n",
       "group       0\n",
       "dtype: int64"
      ]
     },
     "execution_count": 648,
     "metadata": {},
     "output_type": "execute_result"
    }
   ],
   "source": [
    "# conferindo se há valores ausentes\n",
    "logs_br.isnull().sum()"
   ]
  },
  {
   "cell_type": "code",
   "execution_count": 649,
   "metadata": {},
   "outputs": [
    {
     "data": {
      "text/plain": [
       "413"
      ]
     },
     "execution_count": 649,
     "metadata": {},
     "output_type": "execute_result"
    }
   ],
   "source": [
    "# conferindo se há linhas duplicadas\n",
    "logs_br.duplicated().sum()"
   ]
  },
  {
   "cell_type": "code",
   "execution_count": 650,
   "metadata": {},
   "outputs": [],
   "source": [
    "# deletando linhas duplicadas\n",
    "logs_br.drop_duplicates(inplace=True)"
   ]
  },
  {
   "cell_type": "code",
   "execution_count": 651,
   "metadata": {},
   "outputs": [
    {
     "name": "stdout",
     "output_type": "stream",
     "text": [
      "<class 'pandas.core.frame.DataFrame'>\n",
      "Index: 243713 entries, 0 to 244125\n",
      "Data columns (total 4 columns):\n",
      " #   Column    Non-Null Count   Dtype \n",
      "---  ------    --------------   ----- \n",
      " 0   event     243713 non-null  object\n",
      " 1   user_id   243713 non-null  int64 \n",
      " 2   datetime  243713 non-null  int64 \n",
      " 3   group     243713 non-null  int64 \n",
      "dtypes: int64(3), object(1)\n",
      "memory usage: 9.3+ MB\n"
     ]
    }
   ],
   "source": [
    "# conferindo DataFrame\n",
    "logs_br.info()"
   ]
  },
  {
   "cell_type": "code",
   "execution_count": 652,
   "metadata": {},
   "outputs": [],
   "source": [
    "# convertendo coluna 'datetime' para formato datetime\n",
    "logs_br['date_time'] = pd.to_datetime(logs_br['datetime'], unit='s')\n",
    "\n",
    "# extraindo apenas a data\n",
    "logs_br['date'] = logs_br['date_time'].dt.date\n",
    "\n",
    "# excluindo coluna timestamp\n",
    "logs_br = logs_br.drop(['datetime'], axis=1)"
   ]
  },
  {
   "cell_type": "markdown",
   "metadata": {},
   "source": [
    "#### 1.2.1.Anotações"
   ]
  },
  {
   "cell_type": "markdown",
   "metadata": {},
   "source": [
    "O DataFrame não possui valores ausentes, mas foram identificadas 411 linhas de dados duplicados.  \n",
    "Os dados duplicados foram deletados e o tipo de dado da coluna 'datetime' foi ajustado."
   ]
  },
  {
   "cell_type": "markdown",
   "metadata": {},
   "source": [
    "### 1.3.Visualização dos dados"
   ]
  },
  {
   "cell_type": "code",
   "execution_count": 653,
   "metadata": {},
   "outputs": [
    {
     "name": "stdout",
     "output_type": "stream",
     "text": [
      "<class 'pandas.core.frame.DataFrame'>\n",
      "Index: 243713 entries, 0 to 244125\n",
      "Data columns (total 5 columns):\n",
      " #   Column     Non-Null Count   Dtype         \n",
      "---  ------     --------------   -----         \n",
      " 0   event      243713 non-null  object        \n",
      " 1   user_id    243713 non-null  int64         \n",
      " 2   group      243713 non-null  int64         \n",
      " 3   date_time  243713 non-null  datetime64[ns]\n",
      " 4   date       243713 non-null  object        \n",
      "dtypes: datetime64[ns](1), int64(2), object(2)\n",
      "memory usage: 11.2+ MB\n"
     ]
    }
   ],
   "source": [
    "# visualizando DataFrame após tratamento dos dados\n",
    "logs_br.info()"
   ]
  },
  {
   "cell_type": "code",
   "execution_count": 654,
   "metadata": {},
   "outputs": [
    {
     "data": {
      "text/html": [
       "<div>\n",
       "<style scoped>\n",
       "    .dataframe tbody tr th:only-of-type {\n",
       "        vertical-align: middle;\n",
       "    }\n",
       "\n",
       "    .dataframe tbody tr th {\n",
       "        vertical-align: top;\n",
       "    }\n",
       "\n",
       "    .dataframe thead th {\n",
       "        text-align: right;\n",
       "    }\n",
       "</style>\n",
       "<table border=\"1\" class=\"dataframe\">\n",
       "  <thead>\n",
       "    <tr style=\"text-align: right;\">\n",
       "      <th></th>\n",
       "      <th>event</th>\n",
       "      <th>user_id</th>\n",
       "      <th>group</th>\n",
       "      <th>date_time</th>\n",
       "      <th>date</th>\n",
       "    </tr>\n",
       "  </thead>\n",
       "  <tbody>\n",
       "    <tr>\n",
       "      <th>0</th>\n",
       "      <td>MainScreenAppear</td>\n",
       "      <td>4575588528974610257</td>\n",
       "      <td>246</td>\n",
       "      <td>2019-07-25 04:43:36</td>\n",
       "      <td>2019-07-25</td>\n",
       "    </tr>\n",
       "    <tr>\n",
       "      <th>1</th>\n",
       "      <td>MainScreenAppear</td>\n",
       "      <td>7416695313311560658</td>\n",
       "      <td>246</td>\n",
       "      <td>2019-07-25 11:11:42</td>\n",
       "      <td>2019-07-25</td>\n",
       "    </tr>\n",
       "    <tr>\n",
       "      <th>2</th>\n",
       "      <td>PaymentScreenSuccessful</td>\n",
       "      <td>3518123091307005509</td>\n",
       "      <td>248</td>\n",
       "      <td>2019-07-25 11:28:47</td>\n",
       "      <td>2019-07-25</td>\n",
       "    </tr>\n",
       "    <tr>\n",
       "      <th>3</th>\n",
       "      <td>CartScreenAppear</td>\n",
       "      <td>3518123091307005509</td>\n",
       "      <td>248</td>\n",
       "      <td>2019-07-25 11:28:47</td>\n",
       "      <td>2019-07-25</td>\n",
       "    </tr>\n",
       "    <tr>\n",
       "      <th>4</th>\n",
       "      <td>PaymentScreenSuccessful</td>\n",
       "      <td>6217807653094995999</td>\n",
       "      <td>248</td>\n",
       "      <td>2019-07-25 11:48:42</td>\n",
       "      <td>2019-07-25</td>\n",
       "    </tr>\n",
       "  </tbody>\n",
       "</table>\n",
       "</div>"
      ],
      "text/plain": [
       "                     event              user_id  group           date_time  \\\n",
       "0         MainScreenAppear  4575588528974610257    246 2019-07-25 04:43:36   \n",
       "1         MainScreenAppear  7416695313311560658    246 2019-07-25 11:11:42   \n",
       "2  PaymentScreenSuccessful  3518123091307005509    248 2019-07-25 11:28:47   \n",
       "3         CartScreenAppear  3518123091307005509    248 2019-07-25 11:28:47   \n",
       "4  PaymentScreenSuccessful  6217807653094995999    248 2019-07-25 11:48:42   \n",
       "\n",
       "         date  \n",
       "0  2019-07-25  \n",
       "1  2019-07-25  \n",
       "2  2019-07-25  \n",
       "3  2019-07-25  \n",
       "4  2019-07-25  "
      ]
     },
     "execution_count": 654,
     "metadata": {},
     "output_type": "execute_result"
    }
   ],
   "source": [
    "# visualizando DataFrame após tratamento dos dados\n",
    "logs_br.head()"
   ]
  },
  {
   "cell_type": "markdown",
   "metadata": {},
   "source": [
    "## 2.Verificação dos dados"
   ]
  },
  {
   "cell_type": "markdown",
   "metadata": {},
   "source": [
    "### **2.1.Eventos**"
   ]
  },
  {
   "cell_type": "markdown",
   "metadata": {},
   "source": [
    "#### 2.1.1.Processamento"
   ]
  },
  {
   "cell_type": "code",
   "execution_count": 655,
   "metadata": {},
   "outputs": [
    {
     "data": {
      "text/plain": [
       "243713"
      ]
     },
     "execution_count": 655,
     "metadata": {},
     "output_type": "execute_result"
    }
   ],
   "source": [
    "# contando número de eventos registrados\n",
    "logs_br['event'].count()"
   ]
  },
  {
   "cell_type": "code",
   "execution_count": 656,
   "metadata": {},
   "outputs": [
    {
     "data": {
      "text/plain": [
       "array(['MainScreenAppear', 'PaymentScreenSuccessful', 'CartScreenAppear',\n",
       "       'OffersScreenAppear', 'Tutorial'], dtype=object)"
      ]
     },
     "execution_count": 656,
     "metadata": {},
     "output_type": "execute_result"
    }
   ],
   "source": [
    "# listando valores unívocos da coluna 'event'\n",
    "logs_br['event'].unique()"
   ]
  },
  {
   "cell_type": "markdown",
   "metadata": {},
   "source": [
    "#### 2.1.2.Anotações"
   ]
  },
  {
   "cell_type": "markdown",
   "metadata": {},
   "source": [
    "**Eventos:**    \n",
    "  \n",
    "Número total de eventos: 243713  \n",
    "  \n",
    "Eventos unívocos:  \n",
    "Main Screen Appear  \n",
    "Payment Screen Successful  \n",
    "Cart Screen Appear  \n",
    "Offers Screen Appear     \n",
    "Tutorial   "
   ]
  },
  {
   "cell_type": "markdown",
   "metadata": {},
   "source": [
    "### **2.2.Usuários**"
   ]
  },
  {
   "cell_type": "markdown",
   "metadata": {},
   "source": [
    "#### 2.2.1.Processamento"
   ]
  },
  {
   "cell_type": "code",
   "execution_count": 657,
   "metadata": {},
   "outputs": [
    {
     "data": {
      "text/plain": [
       "7551"
      ]
     },
     "execution_count": 657,
     "metadata": {},
     "output_type": "execute_result"
    }
   ],
   "source": [
    "# listando quantidade de valores unívocos da coluna 'id'\n",
    "logs_br['user_id'].nunique()"
   ]
  },
  {
   "cell_type": "markdown",
   "metadata": {},
   "source": [
    "#### 2.2.2.Anotações"
   ]
  },
  {
   "cell_type": "markdown",
   "metadata": {},
   "source": [
    "**Usuários:** \n",
    " \n",
    "7551 usuários unívocos"
   ]
  },
  {
   "cell_type": "markdown",
   "metadata": {},
   "source": [
    "### **2.3.Número médio de eventos por usuário**"
   ]
  },
  {
   "cell_type": "markdown",
   "metadata": {},
   "source": [
    "#### 2.3.1.Processamento"
   ]
  },
  {
   "cell_type": "code",
   "execution_count": 658,
   "metadata": {},
   "outputs": [
    {
     "name": "stdout",
     "output_type": "stream",
     "text": [
      "                  user_id  events\n",
      "7550  9222603179720523844      59\n",
      "7549  9221926045299980007       7\n",
      "7548  9220879493065341500       7\n",
      "7547  9219463515465815368      17\n",
      "7546  9217594193087726423       9\n",
      "7545  9216369613838971606      24\n",
      "7544  9216094175241772920       2\n",
      "7543  9215717049765076788      10\n",
      "7542  9214668690707156694      36\n",
      "7541  9212961170535635779      46\n"
     ]
    }
   ],
   "source": [
    "# calculando quantidade de eventos por usuário\n",
    "events_by_user_br = (\n",
    "    logs_br.drop(['group', 'date_time', 'date'], axis=1)\n",
    "    .groupby('user_id', as_index=False)\n",
    "    .agg({'event': pd.Series.count})\n",
    ")\n",
    "\n",
    "events_by_user_br.columns = ['user_id', 'events']\n",
    "\n",
    "print(events_by_user_br.sort_values(by='user_id', ascending=False).head(10))"
   ]
  },
  {
   "cell_type": "code",
   "execution_count": 659,
   "metadata": {},
   "outputs": [
    {
     "data": {
      "text/plain": [
       "32.27559263673685"
      ]
     },
     "execution_count": 659,
     "metadata": {},
     "output_type": "execute_result"
    }
   ],
   "source": [
    "# calculando média de eventos por usuário\n",
    "events_by_user_br['events'].mean()"
   ]
  },
  {
   "cell_type": "code",
   "execution_count": 660,
   "metadata": {},
   "outputs": [
    {
     "data": {
      "text/plain": [
       "count    7551.000000\n",
       "mean       32.275593\n",
       "std        65.154219\n",
       "min         1.000000\n",
       "25%         9.000000\n",
       "50%        20.000000\n",
       "75%        37.000000\n",
       "max      2307.000000\n",
       "Name: events, dtype: float64"
      ]
     },
     "execution_count": 660,
     "metadata": {},
     "output_type": "execute_result"
    }
   ],
   "source": [
    "# visualizando distribuição dos dados\n",
    "events_by_user_br['events'].describe()"
   ]
  },
  {
   "cell_type": "code",
   "execution_count": 661,
   "metadata": {},
   "outputs": [
    {
     "data": {
      "text/plain": [
       "Text(0, 0.5, 'events')"
      ]
     },
     "execution_count": 661,
     "metadata": {},
     "output_type": "execute_result"
    },
    {
     "data": {
      "image/png": "[encoded data removed]",
      "text/plain": [
       "<Figure size 1200x600 with 1 Axes>"
      ]
     },
     "metadata": {},
     "output_type": "display_data"
    }
   ],
   "source": [
    "# visualizando distribuição dos dados\n",
    "# gráfico de dispersão\n",
    "x_values = pd.Series(range(0,len(events_by_user_br)))\n",
    "\n",
    "plt.figure(figsize=(12, 6))\n",
    "plt.scatter(x_values, events_by_user_br['events'])\n",
    "plt.xlabel('users')\n",
    "plt.ylabel('events')"
   ]
  },
  {
   "cell_type": "code",
   "execution_count": 662,
   "metadata": {},
   "outputs": [
    {
     "name": "stdout",
     "output_type": "stream",
     "text": [
      "[ 64.   89.  200.5]\n"
     ]
    }
   ],
   "source": [
    "# visualizando percentis\n",
    "print(np.percentile(events_by_user_br['events'], [90, 95, 99]))"
   ]
  },
  {
   "cell_type": "code",
   "execution_count": 663,
   "metadata": {},
   "outputs": [],
   "source": [
    "# definindo usuários com valores atípicos\n",
    "users_with_many_events = pd.concat([events_by_user_br[events_by_user_br['events'] > 201]['user_id']])"
   ]
  },
  {
   "cell_type": "code",
   "execution_count": 664,
   "metadata": {},
   "outputs": [],
   "source": [
    "# filtrando o DataFrame removendo usuários com valores atípicos\n",
    "logs_filtered = logs_br[~logs_br['user_id'].isin(users_with_many_events)]"
   ]
  },
  {
   "cell_type": "code",
   "execution_count": 665,
   "metadata": {},
   "outputs": [],
   "source": [
    "# calculando quantidade de eventos por usuário após filtragem\n",
    "events_by_user = (\n",
    "    logs_filtered.drop(['group', 'date_time', 'date'], axis=1)\n",
    "    .groupby('user_id', as_index=False)\n",
    "    .agg({'event': pd.Series.count})\n",
    ")\n",
    "\n",
    "events_by_user.columns = ['user_id', 'events']"
   ]
  },
  {
   "cell_type": "code",
   "execution_count": 666,
   "metadata": {},
   "outputs": [
    {
     "data": {
      "text/plain": [
       "28.004414715719065"
      ]
     },
     "execution_count": 666,
     "metadata": {},
     "output_type": "execute_result"
    }
   ],
   "source": [
    "# calculando média de eventos por usuário após filtragem\n",
    "events_by_user['events'].mean()"
   ]
  },
  {
   "cell_type": "markdown",
   "metadata": {},
   "source": [
    "#### 2.3.1.Anotações"
   ]
  },
  {
   "cell_type": "markdown",
   "metadata": {},
   "source": [
    "Menos de 5% dos usuários realizaram mais que 88 ações, e menos de 1% realizaram mais que 201.  \n",
    "O DataFrame foi filtrado para excluir os usuários com número de eventos superior a 201."
   ]
  },
  {
   "cell_type": "markdown",
   "metadata": {},
   "source": [
    "### **2.4.Intervalo de tempo**"
   ]
  },
  {
   "cell_type": "markdown",
   "metadata": {},
   "source": [
    "#### 2.4.1.Processamento"
   ]
  },
  {
   "cell_type": "code",
   "execution_count": 667,
   "metadata": {},
   "outputs": [
    {
     "data": {
      "text/plain": [
       "count                           209333\n",
       "mean     2019-08-04 10:45:16.095952640\n",
       "min                2019-07-25 04:43:36\n",
       "25%                2019-08-02 14:49:48\n",
       "50%                2019-08-04 12:20:54\n",
       "75%                2019-08-06 07:59:59\n",
       "max                2019-08-07 21:15:17\n",
       "Name: date_time, dtype: object"
      ]
     },
     "execution_count": 667,
     "metadata": {},
     "output_type": "execute_result"
    }
   ],
   "source": [
    "# verificando período de tempo dos dados\n",
    "logs_filtered['date_time'].describe()"
   ]
  },
  {
   "cell_type": "markdown",
   "metadata": {},
   "source": [
    "#### 2.4.2.Anotações"
   ]
  },
  {
   "cell_type": "markdown",
   "metadata": {},
   "source": [
    "**Intervalo de tempo dos dados brutos:**  \n",
    "\n",
    "De 25/07/2019 a 07/08/2019."
   ]
  },
  {
   "cell_type": "markdown",
   "metadata": {},
   "source": [
    "#### 2.4.3.Histograma"
   ]
  },
  {
   "cell_type": "code",
   "execution_count": 668,
   "metadata": {},
   "outputs": [
    {
     "data": {
      "image/png": "[encoded data removed]",
      "text/plain": [
       "<Figure size 1200x600 with 1 Axes>"
      ]
     },
     "metadata": {},
     "output_type": "display_data"
    }
   ],
   "source": [
    "# imprimindo histograma de eventos por data/hora\n",
    "plt.figure(figsize=(12, 6))\n",
    "logs_filtered['date_time'].hist(bins=100, color='skyblue', edgecolor='black')\n",
    "plt.xlabel('Data e Hora')\n",
    "plt.ylabel('Contagem de Eventos')\n",
    "plt.title('Histograma de Eventos por Data e Hora')\n",
    "plt.xticks(rotation=45)\n",
    "plt.show()"
   ]
  },
  {
   "cell_type": "markdown",
   "metadata": {},
   "source": [
    "#### 2.4.4.Anotações"
   ]
  },
  {
   "cell_type": "markdown",
   "metadata": {},
   "source": [
    "Os dados entre os dias 25/07/2019 e 31/07/2019 parecem incompletos.  \n",
    "  \n",
    "Direcionamento: filtrar dados para período em que aparecem completos."
   ]
  },
  {
   "cell_type": "markdown",
   "metadata": {},
   "source": [
    "### **2.5.Filtrando dados**"
   ]
  },
  {
   "cell_type": "markdown",
   "metadata": {},
   "source": [
    "#### 2.5.1.Processamento"
   ]
  },
  {
   "cell_type": "code",
   "execution_count": 669,
   "metadata": {},
   "outputs": [],
   "source": [
    "# convertendo a coluna 'date' para pd.Timestamp diretamente usando .loc\n",
    "logs_filtered.loc[:, 'date'] = pd.to_datetime(logs_filtered['date'])\n",
    "\n",
    "# filtrando os dados dentro do intervalo desejado\n",
    "logs_filtered_filtered = logs_filtered[~((logs_filtered['date'] >= pd.Timestamp('2019-07-25')) & \n",
    "                                         (logs_filtered['date'] <= pd.Timestamp('2019-07-31')))]"
   ]
  },
  {
   "cell_type": "code",
   "execution_count": 670,
   "metadata": {},
   "outputs": [
    {
     "data": {
      "text/plain": [
       "count                  206615\n",
       "unique                      7\n",
       "top       2019-08-06 00:00:00\n",
       "freq                    31573\n",
       "Name: date, dtype: object"
      ]
     },
     "execution_count": 670,
     "metadata": {},
     "output_type": "execute_result"
    }
   ],
   "source": [
    "# verificando dados filtrados\n",
    "logs_filtered_filtered['date'].describe()"
   ]
  },
  {
   "cell_type": "markdown",
   "metadata": {},
   "source": [
    "#### 2.5.2.Histograma"
   ]
  },
  {
   "cell_type": "code",
   "execution_count": 671,
   "metadata": {},
   "outputs": [
    {
     "data": {
      "image/png": "[encoded data removed]",
      "text/plain": [
       "<Figure size 1200x600 with 1 Axes>"
      ]
     },
     "metadata": {},
     "output_type": "display_data"
    }
   ],
   "source": [
    "# reimprimindo histograma de eventos por data/hora\n",
    "plt.figure(figsize=(12, 6))\n",
    "logs_filtered_filtered['date_time'].hist(bins=100, color='skyblue', edgecolor='black')\n",
    "plt.xlabel('Data e Hora')\n",
    "plt.ylabel('Contagem de Eventos')\n",
    "plt.title('Histograma de Eventos por Data e Hora')\n",
    "plt.xticks(rotation=45)\n",
    "plt.show()"
   ]
  },
  {
   "cell_type": "markdown",
   "metadata": {},
   "source": [
    "#### 2.5.3.Anotações"
   ]
  },
  {
   "cell_type": "markdown",
   "metadata": {},
   "source": [
    "**Intervalo de tempo dos dados filtrados:**  \n",
    "\n",
    "De 01/08/2019 a 07/08/2019."
   ]
  },
  {
   "cell_type": "markdown",
   "metadata": {},
   "source": [
    "### **2.6.Balanço dos dados filtrados**"
   ]
  },
  {
   "cell_type": "markdown",
   "metadata": {},
   "source": [
    "#### 2.6.1.Processamento"
   ]
  },
  {
   "cell_type": "code",
   "execution_count": 672,
   "metadata": {},
   "outputs": [
    {
     "name": "stdout",
     "output_type": "stream",
     "text": [
      "<class 'pandas.core.frame.DataFrame'>\n",
      "Index: 243713 entries, 0 to 244125\n",
      "Data columns (total 5 columns):\n",
      " #   Column     Non-Null Count   Dtype         \n",
      "---  ------     --------------   -----         \n",
      " 0   event      243713 non-null  object        \n",
      " 1   user_id    243713 non-null  int64         \n",
      " 2   group      243713 non-null  int64         \n",
      " 3   date_time  243713 non-null  datetime64[ns]\n",
      " 4   date       243713 non-null  object        \n",
      "dtypes: datetime64[ns](1), int64(2), object(2)\n",
      "memory usage: 11.2+ MB\n"
     ]
    }
   ],
   "source": [
    "# conferindo número de eventos DADOS BRUTOS\n",
    "logs_br.info()"
   ]
  },
  {
   "cell_type": "code",
   "execution_count": 673,
   "metadata": {},
   "outputs": [
    {
     "data": {
      "text/plain": [
       "7551"
      ]
     },
     "execution_count": 673,
     "metadata": {},
     "output_type": "execute_result"
    }
   ],
   "source": [
    "# conferindo número de usuários DADOS BRUTOS\n",
    "logs_br['user_id'].nunique()"
   ]
  },
  {
   "cell_type": "code",
   "execution_count": 674,
   "metadata": {},
   "outputs": [
    {
     "name": "stdout",
     "output_type": "stream",
     "text": [
      "<class 'pandas.core.frame.DataFrame'>\n",
      "Index: 209333 entries, 0 to 244125\n",
      "Data columns (total 5 columns):\n",
      " #   Column     Non-Null Count   Dtype         \n",
      "---  ------     --------------   -----         \n",
      " 0   event      209333 non-null  object        \n",
      " 1   user_id    209333 non-null  int64         \n",
      " 2   group      209333 non-null  int64         \n",
      " 3   date_time  209333 non-null  datetime64[ns]\n",
      " 4   date       209333 non-null  object        \n",
      "dtypes: datetime64[ns](1), int64(2), object(2)\n",
      "memory usage: 9.6+ MB\n"
     ]
    }
   ],
   "source": [
    "# conferindo número de eventos DADOS FILTRADOS (excluídos valores atípicos)\n",
    "logs_filtered.info()"
   ]
  },
  {
   "cell_type": "code",
   "execution_count": 675,
   "metadata": {},
   "outputs": [
    {
     "data": {
      "text/plain": [
       "7475"
      ]
     },
     "execution_count": 675,
     "metadata": {},
     "output_type": "execute_result"
    }
   ],
   "source": [
    "# conferindo número de usuários DADOS FILTRADOS (excluídos valores atípicos)\n",
    "logs_filtered['user_id'].nunique()"
   ]
  },
  {
   "cell_type": "code",
   "execution_count": 676,
   "metadata": {},
   "outputs": [
    {
     "name": "stdout",
     "output_type": "stream",
     "text": [
      "<class 'pandas.core.frame.DataFrame'>\n",
      "Index: 206615 entries, 2828 to 244125\n",
      "Data columns (total 5 columns):\n",
      " #   Column     Non-Null Count   Dtype         \n",
      "---  ------     --------------   -----         \n",
      " 0   event      206615 non-null  object        \n",
      " 1   user_id    206615 non-null  int64         \n",
      " 2   group      206615 non-null  int64         \n",
      " 3   date_time  206615 non-null  datetime64[ns]\n",
      " 4   date       206615 non-null  object        \n",
      "dtypes: datetime64[ns](1), int64(2), object(2)\n",
      "memory usage: 9.5+ MB\n"
     ]
    }
   ],
   "source": [
    "# conferindo número de eventos DADOS FILTRADOS 2 (excluído período com dados incompletos)\n",
    "logs_filtered_filtered.info()"
   ]
  },
  {
   "cell_type": "code",
   "execution_count": 677,
   "metadata": {},
   "outputs": [
    {
     "data": {
      "text/plain": [
       "7458"
      ]
     },
     "execution_count": 677,
     "metadata": {},
     "output_type": "execute_result"
    }
   ],
   "source": [
    "# conferindo número de usuários DADOS FILTRADOS 2 (excluído período com dados incompletos)\n",
    "logs_filtered_filtered['user_id'].nunique()"
   ]
  },
  {
   "cell_type": "code",
   "execution_count": 678,
   "metadata": {},
   "outputs": [
    {
     "data": {
      "text/plain": [
       "group\n",
       "248    70908\n",
       "247    68295\n",
       "246    67412\n",
       "Name: count, dtype: int64"
      ]
     },
     "execution_count": 678,
     "metadata": {},
     "output_type": "execute_result"
    }
   ],
   "source": [
    "# conferindo se há usuários de todos os 3 grupos\n",
    "logs_filtered_filtered['group'].value_counts()"
   ]
  },
  {
   "cell_type": "code",
   "execution_count": 679,
   "metadata": {},
   "outputs": [],
   "source": [
    "# renomeando DataFrame filtrado\n",
    "logs = logs_filtered_filtered"
   ]
  },
  {
   "cell_type": "markdown",
   "metadata": {},
   "source": [
    "#### 2.6.2.Anotações"
   ]
  },
  {
   "cell_type": "markdown",
   "metadata": {},
   "source": [
    "**Eventos:**  \n",
    "\n",
    "**Dados brutos:** 243713 entradas  \n",
    "**Dados filtrados:** 206615 entradas  \n",
    "**Dados descartados:** 37098 entradas - 15.22% dos dados brutos.  \n",
    "  \n",
    "    \n",
    "**Usuários:**  \n",
    "\n",
    "**Dados brutos:** 7551 usuários  \n",
    "**Dados filtrados:** 7458 usuários  \n",
    "**Dados descartados:** 93 usuários - 1.23% dos usuários totais.  "
   ]
  },
  {
   "cell_type": "markdown",
   "metadata": {},
   "source": [
    "## 3.Funil de eventos"
   ]
  },
  {
   "cell_type": "markdown",
   "metadata": {},
   "source": [
    "### 3.1.Eventos"
   ]
  },
  {
   "cell_type": "markdown",
   "metadata": {},
   "source": [
    "#### 3.1.1.Processamento"
   ]
  },
  {
   "cell_type": "code",
   "execution_count": 680,
   "metadata": {},
   "outputs": [
    {
     "data": {
      "text/plain": [
       "event\n",
       "MainScreenAppear           113264\n",
       "OffersScreenAppear          40956\n",
       "CartScreenAppear            29250\n",
       "PaymentScreenSuccessful     22164\n",
       "Tutorial                      981\n",
       "Name: count, dtype: int64"
      ]
     },
     "execution_count": 680,
     "metadata": {},
     "output_type": "execute_result"
    }
   ],
   "source": [
    "# verificando eventos unívocos e frequência de ocorrência de cada um\n",
    "events_freq = logs['event'].value_counts()\n",
    "events_freq.sort_values(ascending=False)"
   ]
  },
  {
   "cell_type": "code",
   "execution_count": 681,
   "metadata": {},
   "outputs": [
    {
     "data": {
      "text/plain": [
       "event\n",
       "MainScreenAppear           7344\n",
       "OffersScreenAppear         4517\n",
       "CartScreenAppear           3658\n",
       "PaymentScreenSuccessful    3463\n",
       "Tutorial                    824\n",
       "Name: user_id, dtype: int64"
      ]
     },
     "execution_count": 681,
     "metadata": {},
     "output_type": "execute_result"
    }
   ],
   "source": [
    "# verificando o número de usuários que executaram cada ação\n",
    "users_per_event = logs.groupby('event')['user_id'].nunique()\n",
    "users_per_event.sort_values(ascending=False)"
   ]
  },
  {
   "cell_type": "code",
   "execution_count": 682,
   "metadata": {},
   "outputs": [
    {
     "data": {
      "text/plain": [
       "event\n",
       "MainScreenAppear           0.984714\n",
       "OffersScreenAppear         0.605658\n",
       "CartScreenAppear           0.490480\n",
       "PaymentScreenSuccessful    0.464334\n",
       "Tutorial                   0.110485\n",
       "Name: user_id, dtype: float64"
      ]
     },
     "execution_count": 682,
     "metadata": {},
     "output_type": "execute_result"
    }
   ],
   "source": [
    "# contando o total de usuários\n",
    "total_users = logs['user_id'].nunique()\n",
    "\n",
    "# verificando a proporção de usuários que executaram cada ação pelo menos uma vez\n",
    "logs_prop = users_per_event/total_users\n",
    "logs_prop.sort_values(ascending=False)"
   ]
  },
  {
   "cell_type": "markdown",
   "metadata": {},
   "source": [
    "#### 3.1.2.Anotações"
   ]
  },
  {
   "cell_type": "markdown",
   "metadata": {},
   "source": [
    "- Eventos unívocos e frequência de ocorrência:  \n",
    "  \n",
    "Main Screen Appear - 113264  \n",
    "Offers Screen Appear  - 40956  \n",
    "Cart Screen Appear - 29250  \n",
    "Payment Screen Successful - 22164  \n",
    "Tutorial - 981  \n",
    "  \n",
    "- Quantidade de usuários que executaram cada ação:  \n",
    "  \n",
    "Main Screen Appear - 7344  \n",
    "Offers Screen Appear  - 4517  \n",
    "Cart Screen Appear - 3658  \n",
    "Payment Screen Successful - 3463  \n",
    "Tutorial - 824  \n",
    "  \n",
    "- Proporção de usuários que executaram cada ação pelo menos uma vez:  \n",
    "  \n",
    "Main Screen Appear - 0.98%  \n",
    "Offers Screen Appear  - 0.61%  \n",
    "Cart Screen Appear - 0.49%  \n",
    "Payment Screen Successful - 0.46%  \n",
    "Tutorial - 0.11%  "
   ]
  },
  {
   "cell_type": "markdown",
   "metadata": {},
   "source": [
    "Ordem de ocorrência dos eventos: \n",
    "   \n",
    "Supõe-se que a ordem de aparição das telas seja  \n",
    "(A) Main Screen Appear > (B) Offers Screen Appear > (C) Cart Screen Appear > (D) Payment Screen Successful  \n",
    "(E) Tutorial pode ser acessada em diferentes momentos do processo."
   ]
  },
  {
   "cell_type": "markdown",
   "metadata": {},
   "source": [
    "### 3.2.Funil"
   ]
  },
  {
   "cell_type": "markdown",
   "metadata": {},
   "source": [
    "#### 3.2.1.Processamento"
   ]
  },
  {
   "cell_type": "code",
   "execution_count": 683,
   "metadata": {},
   "outputs": [],
   "source": [
    "# salvando quantidade de usuários por etapa\n",
    "users_event_A = users_per_event['MainScreenAppear']\n",
    "users_event_B = users_per_event['OffersScreenAppear']\n",
    "users_event_C = users_per_event['CartScreenAppear']\n",
    "users_event_D = users_per_event['PaymentScreenSuccessful']\n",
    "users_event_E = users_per_event['Tutorial']"
   ]
  },
  {
   "cell_type": "code",
   "execution_count": 684,
   "metadata": {},
   "outputs": [
    {
     "data": {
      "text/plain": [
       "0.6150599128540305"
      ]
     },
     "execution_count": 684,
     "metadata": {},
     "output_type": "execute_result"
    }
   ],
   "source": [
    "# calculando parcela de usuários que passam da etapa A para B\n",
    "convertion_A_B = users_event_B/users_event_A\n",
    "convertion_A_B"
   ]
  },
  {
   "cell_type": "code",
   "execution_count": 685,
   "metadata": {},
   "outputs": [
    {
     "data": {
      "text/plain": [
       "0.8098295328758025"
      ]
     },
     "execution_count": 685,
     "metadata": {},
     "output_type": "execute_result"
    }
   ],
   "source": [
    "# calculando parcela de usuários que passam da etapa B para C\n",
    "convertion_B_C = users_event_C/users_event_B\n",
    "convertion_B_C"
   ]
  },
  {
   "cell_type": "code",
   "execution_count": 686,
   "metadata": {},
   "outputs": [
    {
     "data": {
      "text/plain": [
       "0.9466921815199563"
      ]
     },
     "execution_count": 686,
     "metadata": {},
     "output_type": "execute_result"
    }
   ],
   "source": [
    "# calculando parcela de usuários que passam da etapa C para D\n",
    "convertion_C_D = users_event_D/users_event_C\n",
    "convertion_C_D"
   ]
  },
  {
   "cell_type": "code",
   "execution_count": 687,
   "metadata": {},
   "outputs": [
    {
     "data": {
      "text/plain": [
       "0.471541394335512"
      ]
     },
     "execution_count": 687,
     "metadata": {},
     "output_type": "execute_result"
    }
   ],
   "source": [
    "# calculando parcela de usuários que passam por todas as etapas, de A a D\n",
    "convertion_A_D = users_event_D/users_event_A\n",
    "convertion_A_D"
   ]
  },
  {
   "cell_type": "markdown",
   "metadata": {},
   "source": [
    "#### 3.2.2.Gráfico"
   ]
  },
  {
   "cell_type": "code",
   "execution_count": 688,
   "metadata": {},
   "outputs": [
    {
     "name": "stderr",
     "output_type": "stream",
     "text": [
      "c:\\Users\\Dell\\anaconda3\\Lib\\site-packages\\seaborn\\_oldcore.py:1765: FutureWarning: unique with argument that is not not a Series, Index, ExtensionArray, or np.ndarray is deprecated and will raise in a future version.\n",
      "  order = pd.unique(vector)\n"
     ]
    },
    {
     "data": {
      "image/png": "[encoded data removed]",
      "text/plain": [
       "<Figure size 800x600 with 1 Axes>"
      ]
     },
     "metadata": {},
     "output_type": "display_data"
    }
   ],
   "source": [
    "# Dados das conversões em cada etapa\n",
    "etapas = ['MainScreenAppear', 'OffersScreenAppear', 'CartScreenAppear', 'PaymentScreenSuccessful']\n",
    "usuarios = [users_event_A, users_event_B, users_event_C, users_event_D]\n",
    "\n",
    "# Definindo o tamanho da figura\n",
    "plt.figure(figsize=(8, 6))\n",
    "\n",
    "# Criando o gráfico de funil\n",
    "sns.barplot(x=usuarios, y=etapas, palette='Blues_d')\n",
    "\n",
    "# Adicionando rótulos aos eixos e título\n",
    "plt.title('Funil de Conversão de Usuários')\n",
    "plt.xlabel('Número de Usuários')\n",
    "plt.ylabel('Etapas do Funil')\n",
    "\n",
    "# Exibir a visualização\n",
    "plt.show()"
   ]
  },
  {
   "cell_type": "markdown",
   "metadata": {},
   "source": [
    "#### 3.2.3.Anotações"
   ]
  },
  {
   "cell_type": "markdown",
   "metadata": {},
   "source": [
    "**Taxa de conversão entre etapas:**  \n",
    "\n",
    "(A) Main Screen Appear > (B) Offers Screen Appear : 61%  \n",
    "(B) Offers Screen Appear > (C) Cart Screen Appear : 81%  \n",
    "(C) Cart Screen Appear > (D) Payment Screen Successful : 95%    \n",
    "  \n",
    "(A) Main Screen Appear > (D) Payment Screen Successful : 47%"
   ]
  },
  {
   "cell_type": "markdown",
   "metadata": {},
   "source": [
    "A etapa com menor conversão de usuários é a transição entre a 'Main Screen' e 'Offers Screen'.  \n",
    "Uma vez que o usuário é apresentado à tela de ofertas, a conversão para a tela 'Cart Screen' é de 81%, dos quais 95% chegam à tela de 'Payment Successful'.  \n",
    "  \n",
    "47% dos usuários que acessam a etapa A 'Main Screen', chegam à etapa final D 'Payment Successful'."
   ]
  },
  {
   "cell_type": "markdown",
   "metadata": {},
   "source": [
    "## 4.Teste A/A/B"
   ]
  },
  {
   "cell_type": "markdown",
   "metadata": {},
   "source": [
    "### 4.1.Grupos"
   ]
  },
  {
   "cell_type": "markdown",
   "metadata": {},
   "source": [
    "#### 4.1.1.Preparando dados"
   ]
  },
  {
   "cell_type": "code",
   "execution_count": 689,
   "metadata": {},
   "outputs": [],
   "source": [
    "# agrupando dados por grupo\n",
    "group_246 = logs[logs['group'] == 246]\n",
    "group_247 = logs[logs['group'] == 247]\n",
    "group_248 = logs[logs['group'] == 248]"
   ]
  },
  {
   "cell_type": "code",
   "execution_count": 690,
   "metadata": {},
   "outputs": [
    {
     "name": "stdout",
     "output_type": "stream",
     "text": [
      "2456\n",
      "2491\n",
      "2511\n"
     ]
    }
   ],
   "source": [
    "# contando a quantidade de usuários por grupo\n",
    "num_users_246 = group_246['user_id'].nunique()\n",
    "num_users_247 = group_247['user_id'].nunique()\n",
    "num_users_248 = group_248['user_id'].nunique()\n",
    "\n",
    "print(num_users_246)\n",
    "print(num_users_247)\n",
    "print(num_users_248)"
   ]
  },
  {
   "cell_type": "code",
   "execution_count": 691,
   "metadata": {},
   "outputs": [],
   "source": [
    "# contando a quantidade de eventos por usuário em cada grupo\n",
    "events_246 = group_246.groupby('user_id').size()\n",
    "events_247 = group_247.groupby('user_id').size()\n",
    "events_248 = group_248.groupby('user_id').size()"
   ]
  },
  {
   "cell_type": "markdown",
   "metadata": {},
   "source": [
    "Verificando se cada usuário está vinculado a um único grupo."
   ]
  },
  {
   "cell_type": "code",
   "execution_count": 692,
   "metadata": {},
   "outputs": [
    {
     "name": "stdout",
     "output_type": "stream",
     "text": [
      "Cada user_id está vinculado a um único group: True\n"
     ]
    }
   ],
   "source": [
    "# agrupando por 'user_id' e contando o número de grupos distintos para cada um\n",
    "group_count = logs.groupby('user_id')['group'].nunique()\n",
    "\n",
    "# verificando se todos os 'user_id' têm apenas um grupo associado\n",
    "unique_group_per_user = group_count.max() == 1\n",
    "\n",
    "print(\"Cada user_id está vinculado a um único group:\", unique_group_per_user)"
   ]
  },
  {
   "cell_type": "markdown",
   "metadata": {},
   "source": [
    "Nível de significância estatística para testes"
   ]
  },
  {
   "cell_type": "code",
   "execution_count": 693,
   "metadata": {},
   "outputs": [],
   "source": [
    "# definindo nível de significância estatística\n",
    "alpha = 0.05"
   ]
  },
  {
   "cell_type": "markdown",
   "metadata": {},
   "source": [
    "### **4.2.Grupos de controle**"
   ]
  },
  {
   "cell_type": "markdown",
   "metadata": {},
   "source": [
    "#### 4.2.1.Quantidade de usuários por grupo"
   ]
  },
  {
   "cell_type": "markdown",
   "metadata": {},
   "source": [
    "Calculando se há diferença de mais de 1% na **quantidade de usuários** por grupo."
   ]
  },
  {
   "cell_type": "code",
   "execution_count": 694,
   "metadata": {},
   "outputs": [
    {
     "name": "stdout",
     "output_type": "stream",
     "text": [
      "A diferença entre os grupos é de 1.41%, maior que 1%.\n"
     ]
    }
   ],
   "source": [
    "# calculando a diferença percentual\n",
    "percent_diff = abs(num_users_246 - num_users_247) / ((num_users_246 + num_users_247) / 2) * 100\n",
    "\n",
    "# verificando se a diferença é maior que 1%\n",
    "if percent_diff > 1:\n",
    "    print(f\"A diferença entre os grupos é de {percent_diff:.2f}%, maior que 1%.\")\n",
    "else:\n",
    "    print(f\"A diferença entre os grupos é de {percent_diff:.2f}%, menor ou igual a 1%.\")"
   ]
  },
  {
   "cell_type": "markdown",
   "metadata": {},
   "source": [
    "#### 4.2.2.Média de eventos por usuário"
   ]
  },
  {
   "cell_type": "markdown",
   "metadata": {},
   "source": [
    "Analisando se há diferença entre a **média de eventos por usuário** entre os grupos."
   ]
  },
  {
   "cell_type": "code",
   "execution_count": 695,
   "metadata": {},
   "outputs": [
    {
     "name": "stdout",
     "output_type": "stream",
     "text": [
      "valor-p:  0.9680167483493458\n",
      "Falha ao rejeitar a hipótese nula: não há motivo para considerar as médias diferentes.\n"
     ]
    }
   ],
   "source": [
    "# executando o t-test\n",
    "results = ttest_ind(events_246, events_247, equal_var=False)\n",
    "\n",
    "# imprimindo o valor-p\n",
    "print('valor-p: ', results.pvalue)\n",
    "\n",
    "# verificando se o valor-p é menor que o nível de significância\n",
    "if results.pvalue < alpha:\n",
    "    print(\"Rejeitando a hipótese nula: há uma diferença significativa entre as médias dos grupos.\")\n",
    "else:\n",
    "    print(\"Falha ao rejeitar a hipótese nula: não há motivo para considerar as médias diferentes.\")"
   ]
  },
  {
   "cell_type": "markdown",
   "metadata": {},
   "source": [
    "#### 4.2.3.Igualdade de proporções de usuários por evento"
   ]
  },
  {
   "cell_type": "code",
   "execution_count": 696,
   "metadata": {},
   "outputs": [],
   "source": [
    "# definindo função para salvar quantidade de usuários realizando cada ação e calcular proporção por grupo\n",
    "def process_groups(group_246, group_247, event, alpha=0.05):\n",
    "    \n",
    "    # Passo 1: Salvando o total de usuários em cada grupo\n",
    "    total_246 = group_246['user_id'].nunique()\n",
    "    total_247 = group_247['user_id'].nunique()\n",
    "\n",
    "    # Passo 2: Salvando o número de usuários que realizaram a ação em cada grupo\n",
    "    users_246_event = group_246[group_246['event'] == event]['user_id'].nunique()\n",
    "    users_247_event = group_247[group_247['event'] == event]['user_id'].nunique()\n",
    "\n",
    "    # Passo 3: Calculando a proporção de usuários que realizaram a ação em cada grupo\n",
    "    prop_246 = users_246_event / total_246\n",
    "    prop_247 = users_247_event / total_247\n",
    "    \n",
    "    # Passo 4: Realizando o z-test para comparar as proporções\n",
    "    count = [users_246_event, users_247_event]  \n",
    "    nobs = [total_246, total_247]  \n",
    "    z_stat, p_value = proportions_ztest(count, nobs)\n",
    "\n",
    "    # Verificando se o valor-p é menor que o nível de significância\n",
    "    if p_value < alpha:\n",
    "        conclusion = \"Rejeitando a hipótese nula: há uma diferença significativa entre as proporções dos grupos.\"\n",
    "    else:\n",
    "        conclusion = \"Falha ao rejeitar a hipótese nula: não há motivo para considerar as proporções diferentes.\"\n",
    "\n",
    "    return {\n",
    "        'total_246': total_246,\n",
    "        'total_247': total_247,\n",
    "        'users_246_event': users_246_event,\n",
    "        'users_247_event': users_247_event,\n",
    "        'prop_246': prop_246,\n",
    "        'prop_247': prop_247,\n",
    "        'z_stat': z_stat,\n",
    "        'p_value': p_value,\n",
    "        'conclusion': conclusion\n",
    "}"
   ]
  },
  {
   "cell_type": "code",
   "execution_count": 697,
   "metadata": {},
   "outputs": [
    {
     "data": {
      "text/plain": [
       "event\n",
       "MainScreenAppear           113264\n",
       "OffersScreenAppear          40956\n",
       "CartScreenAppear            29250\n",
       "PaymentScreenSuccessful     22164\n",
       "Tutorial                      981\n",
       "Name: count, dtype: int64"
      ]
     },
     "execution_count": 697,
     "metadata": {},
     "output_type": "execute_result"
    }
   ],
   "source": [
    "# organizando eventos por odem de frequência\n",
    "logs['event'].value_counts().sort_values(ascending=False)"
   ]
  },
  {
   "cell_type": "code",
   "execution_count": 698,
   "metadata": {},
   "outputs": [
    {
     "data": {
      "text/plain": [
       "{'total_246': 2456,\n",
       " 'total_247': 2491,\n",
       " 'users_246_event': 2423,\n",
       " 'users_247_event': 2454,\n",
       " 'prop_246': 0.9865635179153095,\n",
       " 'prop_247': 0.9851465274989963,\n",
       " 'z_stat': 0.4219038760933072,\n",
       " 'p_value': 0.6730951807208486,\n",
       " 'conclusion': 'Falha ao rejeitar a hipótese nula: não há motivo para considerar as proporções diferentes.'}"
      ]
     },
     "execution_count": 698,
     "metadata": {},
     "output_type": "execute_result"
    }
   ],
   "source": [
    "# aplicando a função para o evento 'Main Screen Appear'\n",
    "results_MainScreenAppear = process_groups(group_246, group_247, 'MainScreenAppear')\n",
    "results_MainScreenAppear"
   ]
  },
  {
   "cell_type": "code",
   "execution_count": 699,
   "metadata": {},
   "outputs": [
    {
     "data": {
      "text/plain": [
       "{'total_246': 2456,\n",
       " 'total_247': 2491,\n",
       " 'users_246_event': 1514,\n",
       " 'users_247_event': 1498,\n",
       " 'prop_246': 0.6164495114006515,\n",
       " 'prop_247': 0.6013649136892815,\n",
       " 'z_stat': 1.0870205746026653,\n",
       " 'p_value': 0.27702771700769824,\n",
       " 'conclusion': 'Falha ao rejeitar a hipótese nula: não há motivo para considerar as proporções diferentes.'}"
      ]
     },
     "execution_count": 699,
     "metadata": {},
     "output_type": "execute_result"
    }
   ],
   "source": [
    "# aplicando a função para o evento 'Offers Screen Appear'\n",
    "results_OffersScreenAppear = process_groups(group_246, group_247, 'OffersScreenAppear')\n",
    "results_OffersScreenAppear"
   ]
  },
  {
   "cell_type": "code",
   "execution_count": 700,
   "metadata": {},
   "outputs": [
    {
     "data": {
      "text/plain": [
       "{'total_246': 2456,\n",
       " 'total_247': 2491,\n",
       " 'users_246_event': 1238,\n",
       " 'users_247_event': 1216,\n",
       " 'prop_246': 0.504071661237785,\n",
       " 'prop_247': 0.4881573665194701,\n",
       " 'z_stat': 1.119337305554838,\n",
       " 'p_value': 0.26299626637167794,\n",
       " 'conclusion': 'Falha ao rejeitar a hipótese nula: não há motivo para considerar as proporções diferentes.'}"
      ]
     },
     "execution_count": 700,
     "metadata": {},
     "output_type": "execute_result"
    }
   ],
   "source": [
    "# aplicando a função para o evento 'Cart Screen Appear'\n",
    "results_CartScreenAppear = process_groups(group_246, group_247, 'CartScreenAppear')\n",
    "results_CartScreenAppear"
   ]
  },
  {
   "cell_type": "code",
   "execution_count": 701,
   "metadata": {},
   "outputs": [
    {
     "data": {
      "text/plain": [
       "{'total_246': 2456,\n",
       " 'total_247': 2491,\n",
       " 'users_246_event': 1172,\n",
       " 'users_247_event': 1136,\n",
       " 'prop_246': 0.4771986970684039,\n",
       " 'prop_247': 0.4560417503010839,\n",
       " 'z_stat': 1.4913768456314167,\n",
       " 'p_value': 0.13586258367273996,\n",
       " 'conclusion': 'Falha ao rejeitar a hipótese nula: não há motivo para considerar as proporções diferentes.'}"
      ]
     },
     "execution_count": 701,
     "metadata": {},
     "output_type": "execute_result"
    }
   ],
   "source": [
    "# aplicando a função para o evento 'Payment Screen Successful'\n",
    "results_PaymentScreenSuccessful = process_groups(group_246, group_247, 'PaymentScreenSuccessful')\n",
    "results_PaymentScreenSuccessful"
   ]
  },
  {
   "cell_type": "code",
   "execution_count": 702,
   "metadata": {},
   "outputs": [
    {
     "data": {
      "text/plain": [
       "{'total_246': 2456,\n",
       " 'total_247': 2491,\n",
       " 'users_246_event': 269,\n",
       " 'users_247_event': 279,\n",
       " 'prop_246': 0.10952768729641693,\n",
       " 'prop_247': 0.11200321156162184,\n",
       " 'z_stat': -0.2773779458467628,\n",
       " 'p_value': 0.7814899141660463,\n",
       " 'conclusion': 'Falha ao rejeitar a hipótese nula: não há motivo para considerar as proporções diferentes.'}"
      ]
     },
     "execution_count": 702,
     "metadata": {},
     "output_type": "execute_result"
    }
   ],
   "source": [
    "# aplicando a função para o evento 'Tutorial'\n",
    "results_Tutorial = process_groups(group_246, group_247, 'Tutorial')\n",
    "results_Tutorial"
   ]
  },
  {
   "cell_type": "markdown",
   "metadata": {},
   "source": [
    "#### 4.2.4.Anotações"
   ]
  },
  {
   "cell_type": "markdown",
   "metadata": {},
   "source": [
    "1. Quantidade de usuários por grupo:  \n",
    "\n",
    "A diferença entre os grupos é de 1.41%, maior que 1%.  \n",
    "\n",
    "2. Teste de hipótese para avaliar se há diferença entre a **média de eventos por usuário** entre os grupos:  \n",
    "\n",
    "Valor p: 0.97  \n",
    "Não há evidência estatisticamente significativa para rejeitar a hipótese nula: não há motivo para considerar as médias diferentes.\n",
    "\n",
    "3. Foi verificado que todos os usuários estão vinculados a apenas um grupo."
   ]
  },
  {
   "cell_type": "markdown",
   "metadata": {},
   "source": [
    "4. Igualde de proporções:  \n",
    "\n",
    "Para todos os 5 eventos, os testes concluíram que não há diferença estatísticamente significativa entre as proporções de usuários por evento nos dois grupos de controle 246 e 247."
   ]
  },
  {
   "cell_type": "markdown",
   "metadata": {},
   "source": [
    "#### 4.2.5.Conclusões teste A/A"
   ]
  },
  {
   "cell_type": "markdown",
   "metadata": {},
   "source": [
    "Embora haja diferença de mais de 1% na quantidade de usuários dos dois grupos de controle (1.41%), os testes de diferenças de médias e proporções indica que não há diferença estatisticamente significativa entre os dois grupos. Portanto, pode-se afirmar que os grupos foram divididos adequadamente."
   ]
  },
  {
   "cell_type": "markdown",
   "metadata": {},
   "source": [
    "### **4.3.Teste A/B 246/248**"
   ]
  },
  {
   "cell_type": "markdown",
   "metadata": {},
   "source": [
    "#### 4.3.1.Quantidade de usuários por grupo"
   ]
  },
  {
   "cell_type": "markdown",
   "metadata": {},
   "source": [
    "Calculando se há diferença de mais de 1% na **quantidade de usuários** por grupo."
   ]
  },
  {
   "cell_type": "code",
   "execution_count": 703,
   "metadata": {},
   "outputs": [
    {
     "name": "stdout",
     "output_type": "stream",
     "text": [
      "A diferença entre os grupos é de 2.21%, maior que 1%.\n"
     ]
    }
   ],
   "source": [
    "# calculando a diferença percentual\n",
    "percent_diff_a_b_1 = abs(num_users_246 - num_users_248) / ((num_users_246 + num_users_248) / 2) * 100\n",
    "\n",
    "# verificando se a diferença é maior que 1%\n",
    "if percent_diff_a_b_1 > 1:\n",
    "    print(f\"A diferença entre os grupos é de {percent_diff_a_b_1:.2f}%, maior que 1%.\")\n",
    "else:\n",
    "    print(f\"A diferença entre os grupos é de {percent_diff_a_b_1:.2f}%, menor ou igual a 1%.\")"
   ]
  },
  {
   "cell_type": "markdown",
   "metadata": {},
   "source": [
    "#### 4.3.2.Média de eventos por usuário"
   ]
  },
  {
   "cell_type": "markdown",
   "metadata": {},
   "source": [
    "Analisando se há diferença entre a **média de eventos por usuário** entre os grupos."
   ]
  },
  {
   "cell_type": "code",
   "execution_count": 704,
   "metadata": {},
   "outputs": [
    {
     "name": "stdout",
     "output_type": "stream",
     "text": [
      "valor-p:  0.31540320523583665\n",
      "Falha ao rejeitar a hipótese nula: não há motivo para considerar as médias diferentes.\n"
     ]
    }
   ],
   "source": [
    "# definindo nível de significância estatística\n",
    "alpha = 0.05\n",
    "\n",
    "# executando o t-test\n",
    "results_1 = ttest_ind(events_246, events_248, equal_var=False)\n",
    "\n",
    "# imprimindo o valor-p\n",
    "print('valor-p: ', results_1.pvalue)\n",
    "\n",
    "# verificando se o valor-p é menor que o nível de significância\n",
    "if results_1.pvalue < alpha:\n",
    "    print(\"Rejeitando a hipótese nula: há uma diferença significativa entre as médias dos grupos.\")\n",
    "else:\n",
    "    print(\"Falha ao rejeitar a hipótese nula: não há motivo para considerar as médias diferentes.\")"
   ]
  },
  {
   "cell_type": "markdown",
   "metadata": {},
   "source": [
    "#### 4.3.3.Igualdade de proporções de usuários por evento"
   ]
  },
  {
   "cell_type": "code",
   "execution_count": 705,
   "metadata": {},
   "outputs": [],
   "source": [
    "# definindo função para salvar quantidade de usuários realizando cada ação e calcular proporção por grupo\n",
    "def process_groups_a_b_1(group_246, group_248, event):\n",
    "    \n",
    "    # passo 1: salvando o total de usuários em cada grupo\n",
    "    total_246 = group_246['user_id'].nunique()\n",
    "    total_248 = group_248['user_id'].nunique()\n",
    "\n",
    "    # passo 2: salvando o número de usuários que realizaram a ação em cada grupo\n",
    "    users_246_event = group_246[group_246['event'] == event]['user_id'].nunique()\n",
    "    users_248_event = group_248[group_248['event'] == event]['user_id'].nunique()\n",
    "\n",
    "    # passo 3: calculando a proporção de usuários que realizaram a ação em cada grupo\n",
    "    prop_246 = users_246_event / total_246\n",
    "    prop_248 = users_248_event / total_248\n",
    "    \n",
    "    # Passo 4: Realizando o z-test para comparar as proporções\n",
    "    count = [users_246_event, users_248_event]  \n",
    "    nobs = [total_246, total_248]  \n",
    "    z_stat, p_value = proportions_ztest(count, nobs)\n",
    "\n",
    "    # Verificando se o valor-p é menor que o nível de significância\n",
    "    if p_value < alpha:\n",
    "        conclusion = \"Rejeitando a hipótese nula: há uma diferença significativa entre as proporções dos grupos.\"\n",
    "    else:\n",
    "        conclusion = \"Falha ao rejeitar a hipótese nula: não há motivo para considerar as proporções diferentes.\"\n",
    "\n",
    "    return {\n",
    "        'total_246': total_246,\n",
    "        'total_248': total_248,\n",
    "        'users_246_event': users_246_event,\n",
    "        'users_248_event': users_248_event,\n",
    "        'prop_246': prop_246,\n",
    "        'prop_248': prop_248,\n",
    "        'z_stat': z_stat,\n",
    "        'p_value': p_value,\n",
    "        'conclusion': conclusion\n",
    "}"
   ]
  },
  {
   "cell_type": "code",
   "execution_count": 706,
   "metadata": {},
   "outputs": [
    {
     "data": {
      "text/plain": [
       "{'total_246': 2456,\n",
       " 'total_248': 2511,\n",
       " 'users_246_event': 2423,\n",
       " 'users_248_event': 2467,\n",
       " 'prop_246': 0.9865635179153095,\n",
       " 'prop_248': 0.9824771007566706,\n",
       " 'z_stat': 1.1655409178548093,\n",
       " 'p_value': 0.24380010740478963,\n",
       " 'conclusion': 'Falha ao rejeitar a hipótese nula: não há motivo para considerar as proporções diferentes.'}"
      ]
     },
     "execution_count": 706,
     "metadata": {},
     "output_type": "execute_result"
    }
   ],
   "source": [
    "# aplicando a função para o evento 'Main Screen Appear'\n",
    "results_MainScreenAppear_a_b_1 = process_groups_a_b_1(group_246, group_248, 'MainScreenAppear')\n",
    "results_MainScreenAppear_a_b_1"
   ]
  },
  {
   "cell_type": "code",
   "execution_count": 707,
   "metadata": {},
   "outputs": [
    {
     "data": {
      "text/plain": [
       "{'total_246': 2456,\n",
       " 'total_248': 2511,\n",
       " 'users_246_event': 1514,\n",
       " 'users_248_event': 1505,\n",
       " 'prop_246': 0.6164495114006515,\n",
       " 'prop_248': 0.599362803663879,\n",
       " 'z_stat': 1.233153034101185,\n",
       " 'p_value': 0.21751867407994285,\n",
       " 'conclusion': 'Falha ao rejeitar a hipótese nula: não há motivo para considerar as proporções diferentes.'}"
      ]
     },
     "execution_count": 707,
     "metadata": {},
     "output_type": "execute_result"
    }
   ],
   "source": [
    "# aplicando a função para o evento 'Offers Screen Appear'\n",
    "results_OffersScreenAppear_a_b_1 = process_groups_a_b_1(group_246, group_248, 'OffersScreenAppear')\n",
    "results_OffersScreenAppear_a_b_1"
   ]
  },
  {
   "cell_type": "code",
   "execution_count": 708,
   "metadata": {},
   "outputs": [
    {
     "data": {
      "text/plain": [
       "{'total_246': 2456,\n",
       " 'total_248': 2511,\n",
       " 'users_246_event': 1238,\n",
       " 'users_248_event': 1204,\n",
       " 'prop_246': 0.504071661237785,\n",
       " 'prop_248': 0.47949024293110315,\n",
       " 'z_stat': 1.7325590041338186,\n",
       " 'p_value': 0.08317408116828569,\n",
       " 'conclusion': 'Falha ao rejeitar a hipótese nula: não há motivo para considerar as proporções diferentes.'}"
      ]
     },
     "execution_count": 708,
     "metadata": {},
     "output_type": "execute_result"
    }
   ],
   "source": [
    "# aplicando a função para o evento 'Cart Screen Appear'\n",
    "results_CartScreenAppear_a_b_1 = process_groups_a_b_1(group_246, group_248, 'CartScreenAppear')\n",
    "results_CartScreenAppear_a_b_1"
   ]
  },
  {
   "cell_type": "code",
   "execution_count": 709,
   "metadata": {},
   "outputs": [
    {
     "data": {
      "text/plain": [
       "{'total_246': 2456,\n",
       " 'total_248': 2511,\n",
       " 'users_246_event': 1172,\n",
       " 'users_248_event': 1155,\n",
       " 'prop_246': 0.4771986970684039,\n",
       " 'prop_248': 0.45997610513739545,\n",
       " 'z_stat': 1.2161383227995284,\n",
       " 'p_value': 0.2239322340682175,\n",
       " 'conclusion': 'Falha ao rejeitar a hipótese nula: não há motivo para considerar as proporções diferentes.'}"
      ]
     },
     "execution_count": 709,
     "metadata": {},
     "output_type": "execute_result"
    }
   ],
   "source": [
    "# aplicando a função para o evento 'Payment Screen Successful'\n",
    "results_PaymentScreenSuccessful_a_b_1 = process_groups_a_b_1(group_246, group_248, 'PaymentScreenSuccessful')\n",
    "results_PaymentScreenSuccessful_a_b_1"
   ]
  },
  {
   "cell_type": "code",
   "execution_count": 710,
   "metadata": {},
   "outputs": [
    {
     "data": {
      "text/plain": [
       "{'total_246': 2456,\n",
       " 'total_248': 2511,\n",
       " 'users_246_event': 269,\n",
       " 'users_248_event': 276,\n",
       " 'prop_246': 0.10952768729641693,\n",
       " 'prop_248': 0.10991636798088411,\n",
       " 'z_stat': -0.04381975612267146,\n",
       " 'p_value': 0.965048079100338,\n",
       " 'conclusion': 'Falha ao rejeitar a hipótese nula: não há motivo para considerar as proporções diferentes.'}"
      ]
     },
     "execution_count": 710,
     "metadata": {},
     "output_type": "execute_result"
    }
   ],
   "source": [
    "# aplicando a função para o evento 'Tutorial'\n",
    "results_Tutorial_a_b_1 = process_groups_a_b_1(group_246, group_248, 'Tutorial')\n",
    "results_Tutorial_a_b_1"
   ]
  },
  {
   "cell_type": "markdown",
   "metadata": {},
   "source": [
    "#### 4.3.4.Anotações"
   ]
  },
  {
   "cell_type": "markdown",
   "metadata": {},
   "source": [
    "1. Quantidade de usuários por grupo:  \n",
    "\n",
    "A diferença entre os grupos é de 2.21%, maior que 1%.  \n",
    "\n",
    "2. Teste de hipótese para avaliar se há diferença entre a **média de eventos por usuário** entre os grupos:  \n",
    "\n",
    "Valor p: 0.31  \n",
    "Não há evidência estatisticamente significativa para rejeitar a hipótese nula: não há motivo para considerar as médias diferentes."
   ]
  },
  {
   "cell_type": "markdown",
   "metadata": {},
   "source": [
    "3. Igualde de proporções:  \n",
    "\n",
    "Para todos os 5 eventos, os testes concluíram que não há diferença estatisticamente significativa entre as proporções de usuários por evento nos dois grupos 246 e 248."
   ]
  },
  {
   "cell_type": "markdown",
   "metadata": {},
   "source": [
    "### **4.4.Teste A/B 247/248**"
   ]
  },
  {
   "cell_type": "markdown",
   "metadata": {},
   "source": [
    "#### 4.3.1.Quantidade de usuários por grupo"
   ]
  },
  {
   "cell_type": "markdown",
   "metadata": {},
   "source": [
    "Calculando se há diferença de mais de 1% na **quantidade de usuários** por grupo."
   ]
  },
  {
   "cell_type": "code",
   "execution_count": 711,
   "metadata": {},
   "outputs": [
    {
     "name": "stdout",
     "output_type": "stream",
     "text": [
      "A diferença entre os grupos é de 0.80%, menor ou igual a 1%.\n"
     ]
    }
   ],
   "source": [
    "# calculando a diferença percentual\n",
    "percent_diff_a_b_2 = abs(num_users_247 - num_users_248) / ((num_users_247 + num_users_248) / 2) * 100\n",
    "\n",
    "# verificando se a diferença é maior que 1%\n",
    "if percent_diff_a_b_2 > 1:\n",
    "    print(f\"A diferença entre os grupos é de {percent_diff_a_b_2:.2f}%, maior que 1%.\")\n",
    "else:\n",
    "    print(f\"A diferença entre os grupos é de {percent_diff_a_b_2:.2f}%, menor ou igual a 1%.\")"
   ]
  },
  {
   "cell_type": "markdown",
   "metadata": {},
   "source": [
    "#### 4.3.2.Média de eventos por usuário"
   ]
  },
  {
   "cell_type": "markdown",
   "metadata": {},
   "source": [
    "Analisando se há diferença entre a **média de eventos por usuário** entre os grupos."
   ]
  },
  {
   "cell_type": "code",
   "execution_count": 712,
   "metadata": {},
   "outputs": [
    {
     "name": "stdout",
     "output_type": "stream",
     "text": [
      "valor-p:  0.2945121683330858\n",
      "Falha ao rejeitar a hipótese nula: não há motivo para considerar as médias diferentes.\n"
     ]
    }
   ],
   "source": [
    "# definindo nível de significância estatística\n",
    "alpha = 0.05\n",
    "\n",
    "# executando o t-test\n",
    "results = ttest_ind(events_247, events_248, equal_var=False)\n",
    "\n",
    "# imprimindo o valor-p\n",
    "print('valor-p: ', results.pvalue)\n",
    "\n",
    "# verificando se o valor-p é menor que o nível de significância\n",
    "if results.pvalue < alpha:\n",
    "    print(\"Rejeitando a hipótese nula: há uma diferença significativa entre as médias dos grupos.\")\n",
    "else:\n",
    "    print(\"Falha ao rejeitar a hipótese nula: não há motivo para considerar as médias diferentes.\")"
   ]
  },
  {
   "cell_type": "markdown",
   "metadata": {},
   "source": [
    "#### 4.3.3.Igualdade de proporções de usuários por evento"
   ]
  },
  {
   "cell_type": "code",
   "execution_count": 713,
   "metadata": {},
   "outputs": [],
   "source": [
    "# definindo função para salvar quantidade de usuários realizando cada ação e calcular proporção por grupo\n",
    "def process_groups_a_b_2(group_247, group_248, event):\n",
    "    \n",
    "    # passo 1: salvando o total de usuários em cada grupo\n",
    "    total_247 = group_247['user_id'].nunique()\n",
    "    total_248 = group_248['user_id'].nunique()\n",
    "\n",
    "    # passo 2: salvando o número de usuários que realizaram a ação em cada grupo\n",
    "    users_247_event = group_247[group_247['event'] == event]['user_id'].nunique()\n",
    "    users_248_event = group_248[group_248['event'] == event]['user_id'].nunique()\n",
    "\n",
    "    # passo 3: calculando a proporção de usuários que realizaram a ação em cada grupo\n",
    "    prop_247 = users_247_event / total_247\n",
    "    prop_248 = users_248_event / total_248\n",
    "    \n",
    "    # passo 4: Realizando o z-test para comparar as proporções\n",
    "    count = [users_247_event, users_248_event]  \n",
    "    nobs = [total_247, total_248]  \n",
    "    z_stat, p_value = proportions_ztest(count, nobs)\n",
    "    \n",
    "    # verificando se o valor-p é menor que o nível de significância\n",
    "    if p_value < alpha:\n",
    "        conclusion = \"Rejeitando a hipótese nula: há uma diferença significativa entre as médias dos grupos.\"\n",
    "    else:\n",
    "        conclusion = \"Falha ao rejeitar a hipótese nula: não há motivo para considerar as médias diferentes.\"\n",
    "\n",
    "    return {\n",
    "        'total_247': total_247,\n",
    "        'total_248': total_248,\n",
    "        'users_247_event': users_247_event,\n",
    "        'users_248_event': users_248_event,\n",
    "        'prop_247': prop_247,\n",
    "        'prop_248': prop_248,\n",
    "        'z_stat': z_stat,\n",
    "        'p_value': p_value,\n",
    "        'conclusion': conclusion\n",
    "}"
   ]
  },
  {
   "cell_type": "code",
   "execution_count": 714,
   "metadata": {},
   "outputs": [
    {
     "data": {
      "text/plain": [
       "{'total_247': 2491,\n",
       " 'total_248': 2511,\n",
       " 'users_247_event': 2454,\n",
       " 'users_248_event': 2467,\n",
       " 'prop_247': 0.9851465274989963,\n",
       " 'prop_248': 0.9824771007566706,\n",
       " 'z_stat': 0.7478782080620041,\n",
       " 'p_value': 0.45453362307563017,\n",
       " 'conclusion': 'Falha ao rejeitar a hipótese nula: não há motivo para considerar as médias diferentes.'}"
      ]
     },
     "execution_count": 714,
     "metadata": {},
     "output_type": "execute_result"
    }
   ],
   "source": [
    "# aplicando a função para o evento 'Main Screen Appear'\n",
    "results_MainScreenAppear_a_b_2 = process_groups_a_b_2(group_247, group_248, 'MainScreenAppear')\n",
    "results_MainScreenAppear_a_b_2"
   ]
  },
  {
   "cell_type": "code",
   "execution_count": 715,
   "metadata": {},
   "outputs": [
    {
     "data": {
      "text/plain": [
       "{'total_247': 2491,\n",
       " 'total_248': 2511,\n",
       " 'users_247_event': 1498,\n",
       " 'users_248_event': 1505,\n",
       " 'prop_247': 0.6013649136892815,\n",
       " 'prop_248': 0.599362803663879,\n",
       " 'z_stat': 0.14453929796491002,\n",
       " 'p_value': 0.885074626949582,\n",
       " 'conclusion': 'Falha ao rejeitar a hipótese nula: não há motivo para considerar as médias diferentes.'}"
      ]
     },
     "execution_count": 715,
     "metadata": {},
     "output_type": "execute_result"
    }
   ],
   "source": [
    "# aplicando a função para o evento 'Offers Screen Appear'\n",
    "results_OffersScreenAppear_a_b_2 = process_groups_a_b_2(group_247, group_248, 'OffersScreenAppear')\n",
    "results_OffersScreenAppear_a_b_2"
   ]
  },
  {
   "cell_type": "code",
   "execution_count": 716,
   "metadata": {},
   "outputs": [
    {
     "data": {
      "text/plain": [
       "{'total_247': 2491,\n",
       " 'total_248': 2511,\n",
       " 'users_247_event': 1216,\n",
       " 'users_248_event': 1204,\n",
       " 'prop_247': 0.4881573665194701,\n",
       " 'prop_248': 0.47949024293110315,\n",
       " 'z_stat': 0.613297580362309,\n",
       " 'p_value': 0.5396795929970241,\n",
       " 'conclusion': 'Falha ao rejeitar a hipótese nula: não há motivo para considerar as médias diferentes.'}"
      ]
     },
     "execution_count": 716,
     "metadata": {},
     "output_type": "execute_result"
    }
   ],
   "source": [
    "# aplicando a função para o evento 'Cart Screen Appear'\n",
    "results_CartScreenAppear_a_b_2 = process_groups_a_b_2(group_247, group_248, 'CartScreenAppear')\n",
    "results_CartScreenAppear_a_b_2"
   ]
  },
  {
   "cell_type": "code",
   "execution_count": 717,
   "metadata": {},
   "outputs": [
    {
     "data": {
      "text/plain": [
       "{'total_247': 2491,\n",
       " 'total_248': 2511,\n",
       " 'users_247_event': 1136,\n",
       " 'users_248_event': 1155,\n",
       " 'prop_247': 0.4560417503010839,\n",
       " 'prop_248': 0.45997610513739545,\n",
       " 'z_stat': -0.2792404225137876,\n",
       " 'p_value': 0.7800603242138476,\n",
       " 'conclusion': 'Falha ao rejeitar a hipótese nula: não há motivo para considerar as médias diferentes.'}"
      ]
     },
     "execution_count": 717,
     "metadata": {},
     "output_type": "execute_result"
    }
   ],
   "source": [
    "# aplicando a função para o evento 'Payment Screen Successful'\n",
    "results_PaymentScreenSuccessful_a_b_2 = process_groups_a_b_2(group_247, group_248, 'PaymentScreenSuccessful')\n",
    "results_PaymentScreenSuccessful_a_b_2"
   ]
  },
  {
   "cell_type": "code",
   "execution_count": 718,
   "metadata": {},
   "outputs": [
    {
     "data": {
      "text/plain": [
       "{'total_247': 2491,\n",
       " 'total_248': 2511,\n",
       " 'users_247_event': 279,\n",
       " 'users_248_event': 276,\n",
       " 'prop_247': 0.11200321156162184,\n",
       " 'prop_248': 0.10991636798088411,\n",
       " 'z_stat': 0.23495890270667819,\n",
       " 'p_value': 0.8142406312184222,\n",
       " 'conclusion': 'Falha ao rejeitar a hipótese nula: não há motivo para considerar as médias diferentes.'}"
      ]
     },
     "execution_count": 718,
     "metadata": {},
     "output_type": "execute_result"
    }
   ],
   "source": [
    "# aplicando a função para o evento 'Tutorial'\n",
    "results_Tutorial_a_b_2 = process_groups_a_b_2(group_247, group_248, 'Tutorial')\n",
    "results_Tutorial_a_b_2"
   ]
  },
  {
   "cell_type": "markdown",
   "metadata": {},
   "source": [
    "#### 4.3.4.Anotações"
   ]
  },
  {
   "cell_type": "markdown",
   "metadata": {},
   "source": [
    "1. Quantidade de usuários por grupo:  \n",
    "\n",
    "A diferença entre os grupos é de 0.80%, menor que 1%.\n",
    "\n",
    "2. Teste de hipótese para avaliar se há diferença entre a **média de eventos por usuário** entre os grupos:  \n",
    "\n",
    "Valor p: 0.29  \n",
    "Não há evidência estatisticamente significativa para rejeitar a hipótese nula: não há motivo para considerar as médias diferentes.\n"
   ]
  },
  {
   "cell_type": "markdown",
   "metadata": {},
   "source": [
    "3. Igualde de proporções:  \n",
    "\n",
    "Para todos os 5 eventos, os testes concluíram que não há diferença estatísticamente significativa entre as proporções de usuários por evento nos dois grupos 247 e 248."
   ]
  },
  {
   "cell_type": "markdown",
   "metadata": {},
   "source": [
    "### **4.5.Conclusões Teste A/B**"
   ]
  },
  {
   "cell_type": "markdown",
   "metadata": {},
   "source": [
    "Os testes mostram que, considerando um nível de significância de 0.05, não há diferença estatisticamente significante entre as proporções dos grupos. Portanto, o teste A/A/B indica que a alteração do layout do aplicativo não afeta significativamente o comportamento do usuário.  \n",
    "Deve-se observar que a divisão dos grupos pode ser questionada. Entre os grupos de controle há uma diferença de 1,41% na quantidade de usuários, enquanto entre o grupo 246 e 248 há uma diferença de 2,21%, apenas entre os grupos 247 e 248 a diferença está dentro do esperado, 0,8%."
   ]
  }
 ],
 "metadata": {
  "kernelspec": {
   "display_name": "base",
   "language": "python",
   "name": "python3"
  },
  "language_info": {
   "codemirror_mode": {
    "name": "ipython",
    "version": 3
   },
   "file_extension": ".py",
   "mimetype": "text/x-python",
   "name": "python",
   "nbconvert_exporter": "python",
   "pygments_lexer": "ipython3",
   "version": "3.11.7"
  }
 },
 "nbformat": 4,
 "nbformat_minor": 2
}
